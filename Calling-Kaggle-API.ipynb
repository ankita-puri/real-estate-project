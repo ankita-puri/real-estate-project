{
 "cells": [
  {
   "cell_type": "markdown",
   "metadata": {},
   "source": [
    "Ankita's part"
   ]
  },
  {
   "cell_type": "code",
   "execution_count": 27,
   "metadata": {},
   "outputs": [
    {
     "name": "stdout",
     "output_type": "stream",
     "text": [
      "Requirement already satisfied: kaggle in /opt/anaconda3/lib/python3.8/site-packages (1.5.12)\n",
      "Requirement already satisfied: python-dateutil in /opt/anaconda3/lib/python3.8/site-packages (from kaggle) (2.8.1)\n",
      "Requirement already satisfied: tqdm in /opt/anaconda3/lib/python3.8/site-packages (from kaggle) (4.50.2)\n",
      "Requirement already satisfied: urllib3 in /opt/anaconda3/lib/python3.8/site-packages (from kaggle) (1.25.11)\n",
      "Requirement already satisfied: six>=1.10 in /opt/anaconda3/lib/python3.8/site-packages (from kaggle) (1.15.0)\n",
      "Requirement already satisfied: certifi in /opt/anaconda3/lib/python3.8/site-packages (from kaggle) (2020.6.20)\n",
      "Requirement already satisfied: requests in /opt/anaconda3/lib/python3.8/site-packages (from kaggle) (2.24.0)\n",
      "Requirement already satisfied: python-slugify in /opt/anaconda3/lib/python3.8/site-packages (from kaggle) (4.0.1)\n",
      "Requirement already satisfied: chardet<4,>=3.0.2 in /opt/anaconda3/lib/python3.8/site-packages (from requests->kaggle) (3.0.4)\n",
      "Requirement already satisfied: idna<3,>=2.5 in /opt/anaconda3/lib/python3.8/site-packages (from requests->kaggle) (2.10)\n",
      "Requirement already satisfied: text-unidecode>=1.3 in /opt/anaconda3/lib/python3.8/site-packages (from python-slugify->kaggle) (1.3)\n"
     ]
    }
   ],
   "source": [
    "#installing kaggle\n",
    "!pip install kaggle"
   ]
  },
  {
   "cell_type": "code",
   "execution_count": 3,
   "metadata": {},
   "outputs": [
    {
     "name": "stdout",
     "output_type": "stream",
     "text": [
      "mkdir: /Users/ankita/.kaggle: File exists\r\n"
     ]
    }
   ],
   "source": [
    "#creating a folder named '.kaggle'\n",
    "mkdir ~/.kaggle"
   ]
  },
  {
   "cell_type": "code",
   "execution_count": 4,
   "metadata": {},
   "outputs": [
    {
     "name": "stdout",
     "output_type": "stream",
     "text": [
      "kaggle.json\r\n"
     ]
    }
   ],
   "source": [
    "#API token created and kaggle.json file downloaded and moved to '.kaggle' folder\n",
    "#making sure if kaggle.json file is in '.kaggle' folder\n",
    "!cd /Users/ankita/.kaggle/ && ls"
   ]
  },
  {
   "cell_type": "code",
   "execution_count": 13,
   "metadata": {},
   "outputs": [
    {
     "name": "stdout",
     "output_type": "stream",
     "text": [
      "Warning: Your Kaggle API key is readable by other users on this system! To fix this, you can run 'chmod 600 /Users/ankita/.kaggle/kaggle.json'\n",
      "ref                                                            title                                               size  lastUpdated          downloadCount  voteCount  usabilityRating  \n",
      "-------------------------------------------------------------  -------------------------------------------------  -----  -------------------  -------------  ---------  ---------------  \n",
      "htagholdings/aus-real-estate-sales-march-2019-to-april-2020    AUS Real Estate Sales September 2018 to June 2020    5MB  2020-07-24 00:13:58            720         20  1.0              \n",
      "gauravduttakiit/weather-in-aus                                 Weather in AUS                                       4MB  2021-02-27 19:34:45             37          8  0.7058824        \n",
      "crescenzo/lunardistance                                        Lunar Daily Distance and Declination : 1800-2020     1MB  2017-05-03 02:11:34            174          4  0.64705884       \n",
      "vaibhavpip/cricinfo-database-of-odis-in-2010s                  Cricinfo Database of ODIs in 2010s                 248KB  2020-02-10 18:30:26             18          3  0.3529412        \n",
      "tbrownlow3/atp-tennis                                          ATP Tennis                                           2MB  2019-09-18 10:43:15            388          8  0.64705884       \n",
      "huan1111/2016-aus-census                                       2016 Australia Census Data(income part)              4KB  2021-01-06 04:57:36              9          1  0.47058824       \n",
      "coolonce/quality-diplom                                        quality diplom                                     304KB  2020-01-07 21:57:59             12          0  0.29411766       \n",
      "tanhim/agricultural-dataset-bangladesh-44-parameters           Agricultural Dataset Bangladesh (44 parameters)      6KB  2019-11-26 01:08:19            432         14  0.3529412        \n",
      "smat26/roman-urdu-dataset                                      Roman Urdu Dataset                                 724KB  2020-03-04 15:35:37            457          7  0.64705884       \n",
      "mariapetrochenkova/wordcloud-projekt-papa-weihnachtsgru        WordCloud                                            2MB  2020-12-29 14:21:09              1          2  0.75             \n",
      "dhyaneshwaran123/ind-v-aus-tour-2020-2021                      IND V AUS TOUR 2020 - 2021                           1KB  2021-01-12 13:54:55              1          1  0.11764706       \n",
      "vivekyadav21/roman-urdu-dataset-for-sentiment-analysis-amazon  Roman urdu dataset for sentiment analysis amazon   622KB  2020-12-21 12:15:47              9          3  0.11764706       \n",
      "margual56/taylor-swifts-disks                                  Taylor Swift's albums                                1KB  2021-03-23 18:29:26              0          1  0.5294118        \n",
      "manuelblechschmidt/icu-beds-in-germany                         ICU beds in germany                                  7KB  2020-04-05 10:44:54             59          4  0.88235295       \n",
      "nambidb/cricket-best-of-the-ashes-1882-2018                    Cricket - Best Of the Ashes (1882 - 2018)            2KB  2019-11-07 22:11:32             13          0  0.29411766       \n",
      "akarami/roman-urdu-data-set                                    Roman Urdu Data Set                                622KB  2019-11-05 00:16:57             25          0  0.29411766       \n",
      "pra1210/romanurdudata                                          RomanUrduData                                      622KB  2020-03-17 05:48:06              8          0  0.11764706       \n",
      "uwrfkaggler/ravdess-facial-landmark-tracking                   RAVDESS Facial Landmark Tracking                   445MB  2019-09-10 18:05:59            127          7  0.85294116       \n",
      "mohabbatsial/roman-urdu-dataset                                Roman_urdu Dataset                                 622KB  2020-11-02 05:29:10              6          0  0.23529412       \n",
      "tristanw3/nsw-australia-top-100-pop-names-mf-19522019          NSW (Australia) Top 100 Pop Names M/F 1952-2019    122KB  2021-02-24 10:03:11              0          0  0.3529412        \n"
     ]
    }
   ],
   "source": [
    "#search dataset from the preffered list\n",
    "!kaggle datasets list -s 'aus real estate'"
   ]
  },
  {
   "cell_type": "code",
   "execution_count": 30,
   "metadata": {},
   "outputs": [],
   "source": [
    "#will take care of privacy of your API key\n",
    "!chmod 600 /Users/ankita/.kaggle/kaggle.json"
   ]
  },
  {
   "cell_type": "code",
   "execution_count": 14,
   "metadata": {},
   "outputs": [
    {
     "name": "stdout",
     "output_type": "stream",
     "text": [
      "Warning: Your Kaggle API key is readable by other users on this system! To fix this, you can run 'chmod 600 /Users/ankita/.kaggle/kaggle.json'\n",
      "Downloading aus-real-estate-sales-march-2019-to-april-2020.zip to /Users/ankita/Documents/Workspace/projects/real-estate-project\n",
      " 88%|█████████████████████████████████▎    | 4.00M/4.56M [00:00<00:00, 9.43MB/s]\n",
      "100%|██████████████████████████████████████| 4.56M/4.56M [00:00<00:00, 10.7MB/s]\n"
     ]
    }
   ],
   "source": [
    "#downloading dataset \n",
    "!kaggle datasets download -d 'htagholdings/aus-real-estate-sales-march-2019-to-april-2020'"
   ]
  },
  {
   "cell_type": "code",
   "execution_count": 18,
   "metadata": {},
   "outputs": [
    {
     "name": "stdout",
     "output_type": "stream",
     "text": [
      "Archive:  aus-real-estate-sales-march-2019-to-april-2020.zip\n",
      "  inflating: data/aus-property-sales-sep2018-april2020.csv  \n"
     ]
    }
   ],
   "source": [
    "#unzipping the file\n",
    "!unzip aus-real-estate-sales-march-2019-to-april-2020.zip -d data/"
   ]
  },
  {
   "cell_type": "code",
   "execution_count": 19,
   "metadata": {},
   "outputs": [],
   "source": [
    "#renaming the csv file to rs.csv and moving to the data folder'data'\n",
    "!mv data/aus-property-sales-sep2018-april2020.csv data/rs.csv"
   ]
  },
  {
   "cell_type": "code",
   "execution_count": 20,
   "metadata": {},
   "outputs": [
    {
     "name": "stdout",
     "output_type": "stream",
     "text": [
      "rs.csv\r\n"
     ]
    }
   ],
   "source": [
    "!cd data && ls"
   ]
  },
  {
   "cell_type": "code",
   "execution_count": 24,
   "metadata": {},
   "outputs": [],
   "source": [
    "#import dependecies\n",
    "import pandas as pd"
   ]
  },
  {
   "cell_type": "code",
   "execution_count": 31,
   "metadata": {
    "scrolled": true
   },
   "outputs": [
    {
     "data": {
      "text/html": [
       "<div>\n",
       "<style scoped>\n",
       "    .dataframe tbody tr th:only-of-type {\n",
       "        vertical-align: middle;\n",
       "    }\n",
       "\n",
       "    .dataframe tbody tr th {\n",
       "        vertical-align: top;\n",
       "    }\n",
       "\n",
       "    .dataframe thead th {\n",
       "        text-align: right;\n",
       "    }\n",
       "</style>\n",
       "<table border=\"1\" class=\"dataframe\">\n",
       "  <thead>\n",
       "    <tr style=\"text-align: right;\">\n",
       "      <th></th>\n",
       "      <th>date_sold</th>\n",
       "      <th>price</th>\n",
       "      <th>suburb</th>\n",
       "      <th>city_name</th>\n",
       "      <th>state</th>\n",
       "      <th>lat</th>\n",
       "      <th>lon</th>\n",
       "      <th>bedrooms</th>\n",
       "      <th>property_type</th>\n",
       "      <th>loc_pid</th>\n",
       "      <th>lga_pid</th>\n",
       "    </tr>\n",
       "  </thead>\n",
       "  <tbody>\n",
       "    <tr>\n",
       "      <th>0</th>\n",
       "      <td>2018-09-18 00:00:00</td>\n",
       "      <td>NaN</td>\n",
       "      <td>Darling Point</td>\n",
       "      <td>Sydney</td>\n",
       "      <td>NSW</td>\n",
       "      <td>-33.869565</td>\n",
       "      <td>151.241317</td>\n",
       "      <td>3</td>\n",
       "      <td>unit</td>\n",
       "      <td>NSW1221</td>\n",
       "      <td>NSW180</td>\n",
       "    </tr>\n",
       "    <tr>\n",
       "      <th>1</th>\n",
       "      <td>2018-09-24 00:00:00</td>\n",
       "      <td>NaN</td>\n",
       "      <td>Darling Point</td>\n",
       "      <td>Sydney</td>\n",
       "      <td>NSW</td>\n",
       "      <td>-33.872179</td>\n",
       "      <td>151.239726</td>\n",
       "      <td>3</td>\n",
       "      <td>unit</td>\n",
       "      <td>NSW1221</td>\n",
       "      <td>NSW180</td>\n",
       "    </tr>\n",
       "    <tr>\n",
       "      <th>2</th>\n",
       "      <td>2018-09-26 00:00:00</td>\n",
       "      <td>1730000.0</td>\n",
       "      <td>Darling Point</td>\n",
       "      <td>Sydney</td>\n",
       "      <td>NSW</td>\n",
       "      <td>-33.868386</td>\n",
       "      <td>151.237471</td>\n",
       "      <td>2</td>\n",
       "      <td>unit</td>\n",
       "      <td>NSW1221</td>\n",
       "      <td>NSW180</td>\n",
       "    </tr>\n",
       "    <tr>\n",
       "      <th>3</th>\n",
       "      <td>2018-09-26 00:00:00</td>\n",
       "      <td>1928000.0</td>\n",
       "      <td>Darling Point</td>\n",
       "      <td>Sydney</td>\n",
       "      <td>NSW</td>\n",
       "      <td>-33.875465</td>\n",
       "      <td>151.236280</td>\n",
       "      <td>3</td>\n",
       "      <td>unit</td>\n",
       "      <td>NSW1221</td>\n",
       "      <td>NSW180</td>\n",
       "    </tr>\n",
       "    <tr>\n",
       "      <th>4</th>\n",
       "      <td>2018-10-02 00:00:00</td>\n",
       "      <td>1475000.0</td>\n",
       "      <td>Darling Point</td>\n",
       "      <td>Sydney</td>\n",
       "      <td>NSW</td>\n",
       "      <td>-33.875734</td>\n",
       "      <td>151.233575</td>\n",
       "      <td>3</td>\n",
       "      <td>unit</td>\n",
       "      <td>NSW1221</td>\n",
       "      <td>NSW180</td>\n",
       "    </tr>\n",
       "    <tr>\n",
       "      <th>...</th>\n",
       "      <td>...</td>\n",
       "      <td>...</td>\n",
       "      <td>...</td>\n",
       "      <td>...</td>\n",
       "      <td>...</td>\n",
       "      <td>...</td>\n",
       "      <td>...</td>\n",
       "      <td>...</td>\n",
       "      <td>...</td>\n",
       "      <td>...</td>\n",
       "      <td>...</td>\n",
       "    </tr>\n",
       "    <tr>\n",
       "      <th>320329</th>\n",
       "      <td>2019-09-09 00:00:00</td>\n",
       "      <td>NaN</td>\n",
       "      <td>Taylor</td>\n",
       "      <td>Canberra</td>\n",
       "      <td>ACT</td>\n",
       "      <td>-35.152128</td>\n",
       "      <td>149.099435</td>\n",
       "      <td>3</td>\n",
       "      <td>townhouse</td>\n",
       "      <td>ACT934</td>\n",
       "      <td>ACT</td>\n",
       "    </tr>\n",
       "    <tr>\n",
       "      <th>320330</th>\n",
       "      <td>2019-09-10 00:00:00</td>\n",
       "      <td>549900.0</td>\n",
       "      <td>Taylor</td>\n",
       "      <td>Canberra</td>\n",
       "      <td>ACT</td>\n",
       "      <td>-35.151968</td>\n",
       "      <td>149.107229</td>\n",
       "      <td>3</td>\n",
       "      <td>townhouse</td>\n",
       "      <td>ACT934</td>\n",
       "      <td>ACT</td>\n",
       "    </tr>\n",
       "    <tr>\n",
       "      <th>320331</th>\n",
       "      <td>2019-09-10 00:00:00</td>\n",
       "      <td>499900.0</td>\n",
       "      <td>Taylor</td>\n",
       "      <td>Canberra</td>\n",
       "      <td>ACT</td>\n",
       "      <td>-35.151968</td>\n",
       "      <td>149.107229</td>\n",
       "      <td>3</td>\n",
       "      <td>townhouse</td>\n",
       "      <td>ACT934</td>\n",
       "      <td>ACT</td>\n",
       "    </tr>\n",
       "    <tr>\n",
       "      <th>320332</th>\n",
       "      <td>2020-03-10 00:00:00</td>\n",
       "      <td>434000.0</td>\n",
       "      <td>Taylor</td>\n",
       "      <td>Canberra</td>\n",
       "      <td>ACT</td>\n",
       "      <td>-35.152617</td>\n",
       "      <td>149.103578</td>\n",
       "      <td>3</td>\n",
       "      <td>townhouse</td>\n",
       "      <td>ACT934</td>\n",
       "      <td>ACT</td>\n",
       "    </tr>\n",
       "    <tr>\n",
       "      <th>320333</th>\n",
       "      <td>2020-05-19 00:00:00</td>\n",
       "      <td>420000.0</td>\n",
       "      <td>Taylor</td>\n",
       "      <td>Canberra</td>\n",
       "      <td>ACT</td>\n",
       "      <td>-35.151741</td>\n",
       "      <td>149.102781</td>\n",
       "      <td>2</td>\n",
       "      <td>townhouse</td>\n",
       "      <td>ACT934</td>\n",
       "      <td>ACT</td>\n",
       "    </tr>\n",
       "  </tbody>\n",
       "</table>\n",
       "<p>320334 rows × 11 columns</p>\n",
       "</div>"
      ],
      "text/plain": [
       "                  date_sold      price         suburb city_name state  \\\n",
       "0       2018-09-18 00:00:00        NaN  Darling Point    Sydney   NSW   \n",
       "1       2018-09-24 00:00:00        NaN  Darling Point    Sydney   NSW   \n",
       "2       2018-09-26 00:00:00  1730000.0  Darling Point    Sydney   NSW   \n",
       "3       2018-09-26 00:00:00  1928000.0  Darling Point    Sydney   NSW   \n",
       "4       2018-10-02 00:00:00  1475000.0  Darling Point    Sydney   NSW   \n",
       "...                     ...        ...            ...       ...   ...   \n",
       "320329  2019-09-09 00:00:00        NaN         Taylor  Canberra   ACT   \n",
       "320330  2019-09-10 00:00:00   549900.0         Taylor  Canberra   ACT   \n",
       "320331  2019-09-10 00:00:00   499900.0         Taylor  Canberra   ACT   \n",
       "320332  2020-03-10 00:00:00   434000.0         Taylor  Canberra   ACT   \n",
       "320333  2020-05-19 00:00:00   420000.0         Taylor  Canberra   ACT   \n",
       "\n",
       "              lat         lon  bedrooms property_type  loc_pid lga_pid  \n",
       "0      -33.869565  151.241317         3          unit  NSW1221  NSW180  \n",
       "1      -33.872179  151.239726         3          unit  NSW1221  NSW180  \n",
       "2      -33.868386  151.237471         2          unit  NSW1221  NSW180  \n",
       "3      -33.875465  151.236280         3          unit  NSW1221  NSW180  \n",
       "4      -33.875734  151.233575         3          unit  NSW1221  NSW180  \n",
       "...           ...         ...       ...           ...      ...     ...  \n",
       "320329 -35.152128  149.099435         3     townhouse   ACT934     ACT  \n",
       "320330 -35.151968  149.107229         3     townhouse   ACT934     ACT  \n",
       "320331 -35.151968  149.107229         3     townhouse   ACT934     ACT  \n",
       "320332 -35.152617  149.103578         3     townhouse   ACT934     ACT  \n",
       "320333 -35.151741  149.102781         2     townhouse   ACT934     ACT  \n",
       "\n",
       "[320334 rows x 11 columns]"
      ]
     },
     "execution_count": 31,
     "metadata": {},
     "output_type": "execute_result"
    }
   ],
   "source": [
    "#reading csv via panda into a dataframe\n",
    "csv_path=\"data/rs.csv\"\n",
    "data=pd.read_csv(csv_path)\n",
    "data"
   ]
  },
  {
   "cell_type": "code",
   "execution_count": null,
   "metadata": {},
   "outputs": [],
   "source": []
  },
  {
   "cell_type": "code",
   "execution_count": null,
   "metadata": {},
   "outputs": [],
   "source": []
  },
  {
   "cell_type": "code",
   "execution_count": null,
   "metadata": {},
   "outputs": [],
   "source": []
  }
 ],
 "metadata": {
  "kernelspec": {
   "display_name": "Python 3",
   "language": "python",
   "name": "python3"
  },
  "language_info": {
   "codemirror_mode": {
    "name": "ipython",
    "version": 3
   },
   "file_extension": ".py",
   "mimetype": "text/x-python",
   "name": "python",
   "nbconvert_exporter": "python",
   "pygments_lexer": "ipython3",
   "version": "3.8.5"
  }
 },
 "nbformat": 4,
 "nbformat_minor": 4
}
